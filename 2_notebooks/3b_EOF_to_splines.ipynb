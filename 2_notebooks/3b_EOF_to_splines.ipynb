{
 "cells": [
  {
   "cell_type": "markdown",
   "metadata": {},
   "source": [
    "# Converting the feature matrix to I-splines"
   ]
  },
  {
   "cell_type": "code",
   "execution_count": 1,
   "metadata": {
    "vscode": {
     "languageId": "r"
    }
   },
   "outputs": [],
   "source": [
    "library(ncdf4)\n",
    "\n",
    "# Read the netCDF file\n",
    "nc_data <- nc_open(\"/cluster/home/haroldh/spGDMM/1_data/4_interim/EOF_8tsuv_features.nc\")\n",
    "\n",
    "var_name <- names(nc_data$var)"
   ]
  },
  {
   "cell_type": "code",
   "execution_count": 5,
   "metadata": {
    "vscode": {
     "languageId": "r"
    }
   },
   "outputs": [
    {
     "name": "stdout",
     "output_type": "stream",
     "text": [
      "[1] \"mode_1\" \"mode_2\" \"mode_3\" \"mode_4\" \"mode_5\" \"mode_6\" \"mode_7\" \"mode_8\"\n"
     ]
    }
   ],
   "source": [
    "# Specifiy time index to take from, remember this is R\n",
    "time_index = 286\n",
    "\n",
    "# Ensure time index is within the range of the time dimensions of nc_data\n",
    "time_dim_length <- nc_data$dim$time$len\n",
    "if (time_index < 1 || time_index > time_dim_length) {\n",
    "    stop(\"Time_index is out of range\")\n",
    "}\n",
    "\n",
    "# Extract data\n",
    "data <- ncvar_get(nc_data, var_name)[time_index,,,]  # Shape: x, y, mode\n",
    "\n",
    "# Reshape to (grid cells, EOF mode)\n",
    "dim(data) <- c(prod(dim(data)[1:2]), dim(data)[3])\n",
    "\n",
    "# Get the 'vals' for the 'mode' dimension (if it exists)\n",
    "modes <- nc_data$dim$mode$vals\n",
    "\n",
    "# Assign column names using the mode name and each value from modes\n",
    "colnames(data) <- paste0(\"mode_\", modes)\n",
    "\n",
    "# Convert to a data frame\n",
    "eof_predictors <- as.data.frame(data)\n",
    "\n",
    "# Replace 0 with NaN\n",
    "eof_predictors[eof_predictors == 0] <- NaN\n",
    "\n",
    "# Print column names to verify\n",
    "print(colnames(eof_predictors))"
   ]
  },
  {
   "cell_type": "code",
   "execution_count": 9,
   "metadata": {
    "vscode": {
     "languageId": "r"
    }
   },
   "outputs": [
    {
     "name": "stdout",
     "output_type": "stream",
     "text": [
      "[1] 527250     40\n",
      " [1] \"mode_1_I1\" \"mode_1_I2\" \"mode_1_I3\" \"mode_1_I4\" \"mode_1_I5\" \"mode_2_I1\"\n",
      " [7] \"mode_2_I2\" \"mode_2_I3\" \"mode_2_I4\" \"mode_2_I5\" \"mode_3_I1\" \"mode_3_I2\"\n",
      "[13] \"mode_3_I3\" \"mode_3_I4\" \"mode_3_I5\" \"mode_4_I1\" \"mode_4_I2\" \"mode_4_I3\"\n",
      "[19] \"mode_4_I4\" \"mode_4_I5\" \"mode_5_I1\" \"mode_5_I2\" \"mode_5_I3\" \"mode_5_I4\"\n",
      "[25] \"mode_5_I5\" \"mode_6_I1\" \"mode_6_I2\" \"mode_6_I3\" \"mode_6_I4\" \"mode_6_I5\"\n",
      "[31] \"mode_7_I1\" \"mode_7_I2\" \"mode_7_I3\" \"mode_7_I4\" \"mode_7_I5\" \"mode_8_I1\"\n",
      "[37] \"mode_8_I2\" \"mode_8_I3\" \"mode_8_I4\" \"mode_8_I5\"\n"
     ]
    }
   ],
   "source": [
    "library(splines2)\n",
    "\n",
    "# Define degree and number of knots\n",
    "degree <- 3\n",
    "df <- 5  # Degrees of freedom (including intercept)\n",
    "\n",
    "# Efficiently compute I-spline bases for all features\n",
    "i_spline_matrix <- do.call(\n",
    "  cbind,\n",
    "  lapply(colnames(eof_predictors), function(col) {\n",
    "    \n",
    "    # Apply I-spline to the feature\n",
    "    spline_matrix <- iSpline(\n",
    "      eof_predictors[[col]],\n",
    "      degree = degree - 1,\n",
    "      df = df,\n",
    "      intercept = TRUE,\n",
    "      skipna = TRUE\n",
    "    )\n",
    "    \n",
    "    # Generate descriptive column names for this feature\n",
    "    colnames(spline_matrix) <- paste0(col, \"_I\", seq_len(df))  # Remaining bases\n",
    "    \n",
    "    return(spline_matrix)\n",
    "  })\n",
    ")\n",
    "\n",
    "# Print dimensions and column names for verification\n",
    "print(dim(i_spline_matrix))  # Dimensions: (num rows, num features * df)\n",
    "print(colnames(i_spline_matrix))  # Column names: feature_Intercept, feature_I1,"
   ]
  },
  {
   "cell_type": "code",
   "execution_count": null,
   "metadata": {
    "vscode": {
     "languageId": "r"
    }
   },
   "outputs": [],
   "source": [
    "write.csv(i_spline_matrix, \"/cluster/home/haroldh/spGDMM/1_data/2_processed/prediction/EOF_8tsuv_predictors.csv\", row.names = FALSE)"
   ]
  },
  {
   "cell_type": "markdown",
   "metadata": {},
   "source": [
    "# Examination of intercept"
   ]
  },
  {
   "cell_type": "code",
   "execution_count": 95,
   "metadata": {
    "vscode": {
     "languageId": "r"
    }
   },
   "outputs": [
    {
     "name": "stdout",
     "output_type": "stream",
     "text": [
      "         1       2       3     4\n",
      "[1,] 0.000 0.00000 0.00000 0.000\n",
      "[2,] 0.875 0.28125 0.03125 0.000\n",
      "[3,] 1.000 0.75000 0.25000 0.000\n",
      "[4,] 1.000 0.96875 0.71875 0.125\n",
      "[5,] 1.000 1.00000 1.00000 1.000\n"
     ]
    }
   ],
   "source": [
    "library(splines2)\n",
    "\n",
    "# Example data\n",
    "feature <- c(1, 2, 3, 4, 5)\n",
    "\n",
    "# Generate I-spline bases\n",
    "spline_matrix <- iSpline(feature, degree = 2, df = 4, intercept = TRUE)\n",
    "\n",
    "# Inspect the matrix\n",
    "print(spline_matrix)\n"
   ]
  },
  {
   "cell_type": "code",
   "execution_count": 96,
   "metadata": {
    "vscode": {
     "languageId": "r"
    }
   },
   "outputs": [
    {
     "name": "stdout",
     "output_type": "stream",
     "text": [
      "             1         2         3        4\n",
      "[1,] 0.0000000 0.0000000 0.0000000 0.000000\n",
      "[2,] 0.5273438 0.0703125 0.0000000 0.000000\n",
      "[3,] 0.9687500 0.5000000 0.0312500 0.000000\n",
      "[4,] 1.0000000 0.9296875 0.4726562 0.015625\n",
      "[5,] 1.0000000 1.0000000 1.0000000 1.000000\n"
     ]
    }
   ],
   "source": [
    "library(splines2)\n",
    "\n",
    "# Example data\n",
    "feature <- c(1, 2, 3, 4, 5)\n",
    "\n",
    "# Generate I-spline bases\n",
    "spline_matrix <- iSpline(feature, degree = 2, df = 4, intercept = FALSE)\n",
    "\n",
    "# Inspect the matrix\n",
    "print(spline_matrix)\n"
   ]
  }
 ],
 "metadata": {
  "kernelspec": {
   "display_name": "R",
   "language": "R",
   "name": "ir"
  },
  "language_info": {
   "codemirror_mode": "r",
   "file_extension": ".r",
   "mimetype": "text/x-r-source",
   "name": "R",
   "pygments_lexer": "r",
   "version": "4.3.3"
  }
 },
 "nbformat": 4,
 "nbformat_minor": 2
}
