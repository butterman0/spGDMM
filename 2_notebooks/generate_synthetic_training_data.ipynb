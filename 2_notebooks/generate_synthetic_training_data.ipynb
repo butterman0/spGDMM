{
 "cells": [
  {
   "cell_type": "code",
   "execution_count": 49,
   "metadata": {
    "vscode": {
     "languageId": "r"
    }
   },
   "outputs": [
    {
     "name": "stdout",
     "output_type": "stream",
     "text": [
      "httpgd server running at:\n",
      "  http://127.0.0.1:41919/live?token=AoLQov0X\n"
     ]
    }
   ],
   "source": [
    "suppressMessages({\n",
    "    library(fields)\n",
    "    library(ncdf4)\n",
    "    hgd()\n",
    "    rm(list = ls())\n",
    "})\n"
   ]
  },
  {
   "cell_type": "code",
   "execution_count": 45,
   "metadata": {
    "vscode": {
     "languageId": "r"
    }
   },
   "outputs": [
    {
     "name": "stdout",
     "output_type": "stream",
     "text": [
      "[1] \"Row sums:\"\n",
      " Site_1  Site_2  Site_3  Site_4  Site_5  Site_6  Site_7  Site_8  Site_9 Site_10 \n",
      "      1       1       1       1       1       1       1       1       1       1 \n"
     ]
    },
    {
     "data": {
      "image/png": "[encoded data removed]",
      "text/plain": [
       "Plot with title “Abundance of Species at Site 4”"
      ]
     },
     "metadata": {
      "image/png": {
       "height": 420,
       "width": 420
      }
     },
     "output_type": "display_data"
    }
   ],
   "source": [
    "#----------------------------------------------------------------\n",
    "# Create synthetic eDNA data\n",
    "#----------------------------------------------------------------\n",
    "source(\"../3_src/1_data/create_synthetic_data.R\")\n",
    "\n",
    "otu_table <- create_synthetic_rel_abundance_data(no_sites = 10, no_species = 20, seed = 1)\n",
    "\n",
    "# Plotting row\n",
    "row <- 4\n",
    "\n",
    "# Order species by reducing abundance\n",
    "sorted_otu_table <- t(apply(otu_table, 1, function(x) sort(x, decreasing = TRUE)))\n",
    "\n",
    "# Set the background color to white\n",
    "par(bg = \"white\")\n",
    "# Plot the specified row\n",
    "barplot(as.numeric(sorted_otu_table[row, ]), main = paste(\"Abundance of Species at Site\", row), xlab = \"Species\", ylab = \"Abundance\", las = 2, col = \"blue\")\n",
    "\n",
    "# Sum the rows and columns\n",
    "row_sums <- rowSums(otu_table)\n",
    "\n",
    "# Print the sums\n",
    "print(\"Row sums:\")\n",
    "print(row_sums)\n"
   ]
  },
  {
   "cell_type": "code",
   "execution_count": 46,
   "metadata": {
    "vscode": {
     "languageId": "r"
    }
   },
   "outputs": [
    {
     "name": "stdout",
     "output_type": "stream",
     "text": [
      "[1] \"Grid size:  950 x 555\"\n",
      " [1] \"grid_mapping\"    \"LayerDepths\"     \"depth\"           \"DXxDYy\"         \n",
      " [5] \"u_velocity\"      \"v_velocity\"      \"elevation\"       \"temperature\"    \n",
      " [9] \"salinity\"        \"ice_thickness\"   \"ice_compactness\" \"salinity_ice\"   \n"
     ]
    }
   ],
   "source": [
    "#----------------------------------------------------------------\n",
    "# load in data\n",
    "#----------------------------------------------------------------\n",
    "\n",
    "midnor <- nc_open(\"/cluster/projects/itk-SINMOD/coral-mapping/midnor/PhysStates_2019.nc\")\n",
    "\n",
    "sinmod_data <- midnor\n",
    "\n",
    "# Obtain the grid information\n",
    "xc <- dim(ncvar_get(sinmod_data, \"xc\"))[1]\n",
    "yc <- dim(ncvar_get(sinmod_data, \"yc\"))[1]\n",
    "\n",
    "# Obtain depth information to check for land\n",
    "depth <- ncvar_get(sinmod_data, \"depth\")\n",
    "\n",
    "# Print\n",
    "print(paste(\"Grid size: \", xc, \"x\", yc))\n",
    "\n",
    "# List all variables in the NetCDF file\n",
    "variables <- names(sinmod_data$var)\n",
    "print(variables)\n"
   ]
  },
  {
   "cell_type": "code",
   "execution_count": 47,
   "metadata": {
    "vscode": {
     "languageId": "r"
    }
   },
   "outputs": [],
   "source": [
    "source(\"../3_src/1_data/fetch_sinmod_data.R\")\n",
    "# Set random seed\n",
    "set.seed(1)\n",
    "\n",
    "# Randomly sample the grid\n",
    "# Get the value at (1,1) (which is considered invalid)\n",
    "invalid_value <- depth[1, 1]\n",
    "\n",
    "no_sites <- nrow(otu_table)\n",
    "\n",
    "# Exclude locations where depth is equal to the value at (1,1)\n",
    "valid_locations <- which(depth != invalid_value, arr.ind = TRUE)\n",
    "sampled_locations <- valid_locations[sample(nrow(valid_locations), no_sites), ]\n",
    "colnames(sampled_locations) <- c('x', 'y')\n",
    "\n",
    "# Obtain the SINMOD env data at sampled locations\n",
    "# We will choose temperature, salinity, u_velocity, v_velocity\n",
    "env_variables <- c(\"temperature\", \"salinity\", \"u_velocity\", \"v_velocity\") # Can add \"elevation\" if needed\n",
    "\n",
    "df <- fetch_sinmod_data(sinmod_data, sampled_locations, env_variables)"
   ]
  },
  {
   "cell_type": "code",
   "execution_count": 48,
   "metadata": {
    "vscode": {
     "languageId": "r"
    }
   },
   "outputs": [],
   "source": [
    "# Save the resulting data frame as a CSV file\n",
    "write.csv(df, \"../1_data/2_processed/training/midnor_training.csv\", row.names = FALSE)\n",
    "\n",
    "# Save the sampled locations as a CSV file\n",
    "write.csv(sampled_locations, \"../1_data/1_raw/synthetic_abundance/sampled_locations.csv\", row.names = FALSE)\n",
    "\n",
    "# Save the eDNA data (otu_table) as a CSV file\n",
    "write.csv(otu_table, \"../1_data/1_raw/synthetic_abundance/otu_table.csv\", row.names = TRUE)\n"
   ]
  }
 ],
 "metadata": {
  "kernelspec": {
   "display_name": "R",
   "language": "R",
   "name": "ir"
  },
  "language_info": {
   "codemirror_mode": "r",
   "file_extension": ".r",
   "mimetype": "text/x-r-source",
   "name": "R",
   "pygments_lexer": "r",
   "version": "4.3.3"
  }
 },
 "nbformat": 4,
 "nbformat_minor": 2
}
