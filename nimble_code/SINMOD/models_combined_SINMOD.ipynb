{
 "cells": [
  {
   "cell_type": "code",
   "execution_count": 1,
   "metadata": {
    "vscode": {
     "languageId": "r"
    }
   },
   "outputs": [
    {
     "name": "stdout",
     "output_type": "stream",
     "text": [
      "httpgd server running at:\n",
      "  http://127.0.0.1:33025/live?token=Bwc2ZL6x\n"
     ]
    }
   ],
   "source": [
    "suppressMessages({\n",
    "    # library(splines)\n",
    "    library(fields)\n",
    "    library(splines2)\n",
    "    library(nimble)\n",
    "    library(vegan)\n",
    "    library(ncdf4)\n",
    "    library(httpgd)\n",
    "    hgd()\n",
    "    rm(list = ls())\n",
    "})"
   ]
  },
  {
   "cell_type": "code",
   "execution_count": 45,
   "metadata": {
    "vscode": {
     "languageId": "r"
    }
   },
   "outputs": [
    {
     "name": "stdout",
     "output_type": "stream",
     "text": [
      "[1] \"Row sums:\"\n",
      " Site_1  Site_2  Site_3  Site_4  Site_5  Site_6  Site_7  Site_8  Site_9 Site_10 \n",
      "      1       1       1       1       1       1       1       1       1       1 \n"
     ]
    },
    {
     "data": {
      "image/png": "[encoded data removed]",
      "text/plain": [
       "Plot with title “Abundance of Species at Site 1”"
      ]
     },
     "metadata": {
      "image/png": {
       "height": 420,
       "width": 420
      }
     },
     "output_type": "display_data"
    }
   ],
   "source": [
    "#----------------------------------------------------------------\n",
    "# Create synthetic eDNA data\n",
    "#----------------------------------------------------------------\n",
    "\n",
    "set.seed(123)  # Set seed for reproducibility\n",
    "\n",
    "no_sites <- 10\n",
    "no_species <- 20\n",
    "\n",
    "# Create a random OTU table with a standard abundance distribution\n",
    "otu_table <- matrix(rlnorm(no_sites * no_species, meanlog = 0, sdlog = 1), nrow = no_sites, ncol = no_species)\n",
    "\n",
    "# Normalize to get relative abundances\n",
    "otu_table <- otu_table / rowSums(otu_table)\n",
    "\n",
    "# Convert to data frame for better readability\n",
    "otu_table <- as.data.frame(otu_table)\n",
    "colnames(otu_table) <- paste0(\"Species_\", 1:no_species)\n",
    "rownames(otu_table) <- paste0(\"Site_\", 1:no_sites)\n",
    "\n",
    "# print(otu_table)\n",
    "# Order species by reducing abundance\n",
    "sorted_otu_table <- t(apply(otu_table, 1, function(x) sort(x, decreasing = TRUE)))\n",
    "\n",
    "# Set the background color to white\n",
    "par(bg = \"white\")\n",
    "# Plot the first row\n",
    "barplot(as.numeric(sorted_otu_table[1, ]), main = \"Abundance of Species at Site 1\", xlab = \"Species\", ylab = \"Abundance\", las = 2, col = \"blue\")\n",
    "\n",
    "# Sum the rows and columns\n",
    "row_sums <- rowSums(otu_table)\n",
    "\n",
    "# Print the sums\n",
    "print(\"Row sums:\")\n",
    "print(row_sums)\n"
   ]
  },
  {
   "cell_type": "code",
   "execution_count": null,
   "metadata": {
    "vscode": {
     "languageId": "r"
    }
   },
   "outputs": [
    {
     "name": "stdout",
     "output_type": "stream",
     "text": [
      "[1] \"Grid size:  950 x 555\"\n"
     ]
    },
    {
     "data": {
      "text/html": [
       "800"
      ],
      "text/latex": [
       "800"
      ],
      "text/markdown": [
       "800"
      ],
      "text/plain": [
       "[1] 800"
      ]
     },
     "metadata": {},
     "output_type": "display_data"
    }
   ],
   "source": [
    "#----------------------------------------------------------------\n",
    "# load in data\n",
    "#----------------------------------------------------------------\n",
    "\n",
    "midnor <- nc_open(\"/cluster/projects/itk-SINMOD/coral-mapping/midnor/PhysStates_2019.nc\")\n",
    "\n",
    "sinmod_data <- gin\n",
    "\n",
    "# Obtain the grid information\n",
    "xc = dim(ncvar_get(gin, \"xc\"))[1]\n",
    "yc = dim(ncvar_get(gin, \"yc\"))[1]\n",
    "\n",
    "# Obtain depth information to check for land\n",
    "depth = ncvar_get(sinmod_data, \"depth\")\n",
    "\n",
    "# Print\n",
    "print(paste(\"Grid size: \", xc, \"x\", yc))"
   ]
  },
  {
   "cell_type": "code",
   "execution_count": null,
   "metadata": {
    "vscode": {
     "languageId": "r"
    }
   },
   "outputs": [
    {
     "name": "stdout",
     "output_type": "stream",
     "text": [
      " [1] \"grid_mapping\"    \"LayerDepths\"     \"depth\"           \"DXxDYy\"         \n",
      " [5] \"u_velocity\"      \"v_velocity\"      \"elevation\"       \"temperature\"    \n",
      " [9] \"salinity\"        \"ice_thickness\"   \"ice_compactness\" \"salinity_ice\"   \n",
      "   temperature salinity   u_velocity   v_velocity\n",
      "1     7.882015 32.58995  0.136234626 -0.002197333\n",
      "2     8.266854 34.67284  0.101321451  0.013550218\n",
      "3     8.646138 35.27482  0.048219245  0.012817774\n",
      "4     8.473159 34.90326 -0.001220740  0.099124119\n",
      "5     8.814356 33.56502  0.380870998  0.213629566\n",
      "6     7.820917 34.19218  0.248420667  0.300546281\n",
      "7     7.379742 35.12146 -0.371471297  0.002441481\n",
      "8     9.017487 34.17234  0.595965452 -0.031250954\n",
      "9     8.139897 32.60750 -0.009155553 -0.008667257\n",
      "10    8.558855 35.24888  0.259041108 -0.021851253\n"
     ]
    }
   ],
   "source": [
    "# Set random seed\n",
    "set.seed(1)\n",
    "\n",
    "# Randomly sample the grid\n",
    "\n",
    "# Get the value at (1,1) (which is considered invalid)\n",
    "invalid_value <- depth[1, 1]\n",
    "\n",
    "# Exclude locations where depth is equal to the value at (1,1)\n",
    "valid_locations <- which(depth != invalid_value, arr.ind = TRUE)\n",
    "\n",
    "sampled_locations <- valid_locations[sample(nrow(valid_locations), no_sites), ]\n",
    "\n",
    "# Label sampled_locations columns 'x' and 'y'\n",
    "colnames(sampled_locations) <- c('x', 'y')\n",
    "\n",
    "# List all variables in the NetCDF file\n",
    "variables <- names(sinmod_data$var)\n",
    "print(variables)\n",
    "\n",
    "# Obtain the SINMOD env data at sampled locations\n",
    "# We will choose temperature, salinity, u_velocity, v_velocity\n",
    "env_variables <- c(\"temperature\", \"salinity\", \"u_velocity\", \"v_velocity\") # Can add \"elevation\" if needed\n",
    "\n",
    "# Create an empty data frame to store the SINMOD data for multiple variables\n",
    "sinmod_df <- data.frame(matrix(NA, nrow = no_sites, ncol = length(env_variables)))\n",
    "colnames(sinmod_df) <- env_variables  # Assign variable names as column names\n",
    "\n",
    "# Fetch data for each variable one by one at the sampled locations (avoid loading entire dataset)\n",
    "for (j in 1:length(env_variables)) {\n",
    "    var <- env_variables[j]\n",
    "    \n",
    "    # Get dimensions of the variable (3D or 4D)\n",
    "    var_dims <- length(sinmod_data$var[[var]]$dim)\n",
    "    \n",
    "    if (var_dims == 3) {\n",
    "        # Fetch data for 3D variables like \"elevation\"\n",
    "        for (i in 1:no_sites) {\n",
    "            x <- sampled_locations[i, 1]  # x-coordinate\n",
    "            y <- sampled_locations[i, 2]  # y-coordinate\n",
    "            # Fetch data at the specific location\n",
    "            sinmod_df[i, j] <- ncvar_get(sinmod_data, var, start = c(x, y, 1), count = c(1, 1, 1))\n",
    "        }\n",
    "    } else {\n",
    "        # Fetch data for 4D variables like \"temperature\"\n",
    "        for (i in 1:no_sites) {\n",
    "            x <- sampled_locations[i, 1]  # x-coordinate\n",
    "            y <- sampled_locations[i, 2]  # y-coordinate\n",
    "            # Fetch data at the specific location and time/depth slice (time=0, depth=0)\n",
    "            sinmod_df[i, j] <- ncvar_get(sinmod_data, var, start = c(x, y, 1, 1), count = c(1, 1, 1, 1))\n",
    "        }\n",
    "    }\n",
    "} \n",
    "\n",
    "# Print the resulting data frame\n",
    "print(sinmod_df)\n",
    "\n",
    "# Save the resulting data frame as a CSV file\n",
    "write.csv(sinmod_df, \"../../data/synthetic/midnor.csv\", row.names = FALSE)\n",
    "\n",
    "# Save the sampled locations as a CSV file\n",
    "write.csv(sampled_locations, \"../../data/synthetic/sampled_locations.csv\", row.names = FALSE)\n",
    "\n",
    "# Save the eDNA data (otu_table) as a CSV file\n",
    "write.csv(otu_table, \"../../data/synthetic/otu_table.csv\", row.names = TRUE)\n"
   ]
  },
  {
   "cell_type": "code",
   "execution_count": null,
   "metadata": {
    "vscode": {
     "languageId": "r"
    }
   },
   "outputs": [
    {
     "name": "stdout",
     "output_type": "stream",
     "text": [
      "[1] 950 555  50 365\n"
     ]
    }
   ],
   "source": [
    "# Get the shape of the 'temperature' variable\n",
    "temperature_shape <- sinmod_data$var[[\"temperature\"]][[\"size\"]]\n",
    "print(temperature_shape)"
   ]
  },
  {
   "cell_type": "code",
   "execution_count": null,
   "metadata": {
    "vscode": {
     "languageId": "r"
    }
   },
   "outputs": [],
   "source": []
  }
 ],
 "metadata": {
  "kernelspec": {
   "display_name": "R",
   "language": "R",
   "name": "ir"
  },
  "language_info": {
   "codemirror_mode": "r",
   "file_extension": ".r",
   "mimetype": "text/x-r-source",
   "name": "R",
   "pygments_lexer": "r",
   "version": "4.3.3"
  }
 },
 "nbformat": 4,
 "nbformat_minor": 2
}
