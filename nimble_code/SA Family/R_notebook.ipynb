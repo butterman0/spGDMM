{
 "cells": [
  {
   "cell_type": "markdown",
   "metadata": {},
   "source": []
  },
  {
   "cell_type": "code",
   "execution_count": 1,
   "metadata": {
    "vscode": {
     "languageId": "r"
    }
   },
   "outputs": [
    {
     "name": "stderr",
     "output_type": "stream",
     "text": [
      "Warning message:\n",
      "“package ‘fields’ was built under R version 4.3.3”\n",
      "Loading required package: spam\n",
      "\n",
      "Warning message:\n",
      "“package ‘spam’ was built under R version 4.3.3”\n",
      "Spam version 2.10-0 (2023-10-23) is loaded.\n",
      "Type 'help( Spam)' or 'demo( spam)' for a short introduction \n",
      "and overview of this package.\n",
      "Help for individual functions is also obtained by adding the\n",
      "suffix '.spam' to the function name, e.g. 'help( chol.spam)'.\n",
      "\n",
      "\n",
      "Attaching package: ‘spam’\n",
      "\n",
      "\n",
      "The following objects are masked from ‘package:base’:\n",
      "\n",
      "    backsolve, forwardsolve\n",
      "\n",
      "\n",
      "Loading required package: viridisLite\n",
      "\n",
      "Warning message:\n",
      "“package ‘viridisLite’ was built under R version 4.3.3”\n",
      "\n",
      "Try help(fields) to get started.\n",
      "\n",
      "Warning message:\n",
      "“package ‘splines2’ was built under R version 4.3.3”\n",
      "nimble version 1.0.1 is loaded.\n",
      "For more information on NIMBLE and a User Manual,\n",
      "please visit https://R-nimble.org.\n",
      "\n",
      "Note for advanced users who have written their own MCMC samplers:\n",
      "  As of version 0.13.0, NIMBLE's protocol for handling posterior\n",
      "  predictive nodes has changed in a way that could affect user-defined\n",
      "  samplers in some situations. Please see Section 15.5.1 of the User Manual.\n",
      "\n",
      "\n",
      "Attaching package: ‘nimble’\n",
      "\n",
      "\n",
      "The following object is masked from ‘package:stats’:\n",
      "\n",
      "    simulate\n",
      "\n",
      "\n",
      "Warning message:\n",
      "“package ‘vegan’ was built under R version 4.3.3”\n",
      "Loading required package: permute\n",
      "\n",
      "Warning message:\n",
      "“package ‘permute’ was built under R version 4.3.3”\n",
      "\n",
      "Attaching package: ‘permute’\n",
      "\n",
      "\n",
      "The following object is masked from ‘package:nimble’:\n",
      "\n",
      "    getType\n",
      "\n",
      "\n",
      "Loading required package: lattice\n",
      "\n",
      "Warning message:\n",
      "“package ‘lattice’ was built under R version 4.3.3”\n",
      "This is vegan 2.6-8\n",
      "\n",
      "Warning message:\n",
      "“package ‘geosphere’ was built under R version 4.3.3”\n"
     ]
    }
   ],
   "source": [
    "# library(splines)\n",
    "library(fields)\n",
    "library(splines2)\n",
    "library(nimble)\n",
    "library(vegan)\n",
    "library(geosphere)\n",
    "\n",
    "\n",
    "rm(list = ls())"
   ]
  },
  {
   "cell_type": "code",
   "execution_count": 2,
   "metadata": {
    "vscode": {
     "languageId": "r"
    }
   },
   "outputs": [],
   "source": [
    "#----------------------------------------------------------------\n",
    "# load in and parse data\n",
    "#----------------------------------------------------------------\n",
    "\n",
    "dat_all = read.csv(\"../../data/sa_family_data.csv\")\n",
    "\n",
    "# Parse data into location, environmental variables, and cover/presence data\n",
    "\n",
    "location_mat = dat_all[,1:3] \n",
    "envr_use = dat_all[,c(4,5,8,9,10,11,12)] \n",
    "species_mat = dat_all[,-(1:12)] \n",
    "\n",
    "write.csv(location_mat, \"CSV-comparisons/location_mat_R.csv\", row.names = FALSE)\n",
    "write.csv(envr_use, \"CSV-comparisons/envr_use_R.csv\", row.names = FALSE)\n",
    "write.csv(species_mat, \"CSV-comparisons/species_mat_R.csv\", row.names = FALSE)\n",
    "\n",
    "# save num ber of sites\n",
    "ns = nrow(location_mat)"
   ]
  },
  {
   "cell_type": "code",
   "execution_count": 3,
   "metadata": {
    "vscode": {
     "languageId": "r"
    }
   },
   "outputs": [
    {
     "data": {
      "text/html": [
       "0"
      ],
      "text/latex": [
       "0"
      ],
      "text/markdown": [
       "0"
      ],
      "text/plain": [
       "[1] 0"
      ]
     },
     "metadata": {},
     "output_type": "display_data"
    },
    {
     "data": {
      "text/html": [
       "0.0458402877359599"
      ],
      "text/latex": [
       "0.0458402877359599"
      ],
      "text/markdown": [
       "0.0458402877359599"
      ],
      "text/plain": [
       "[1] 0.04584029"
      ]
     },
     "metadata": {},
     "output_type": "display_data"
    }
   ],
   "source": [
    "#----------------------------------------------------------------\n",
    "# Calculate Bray-Curtis dissimilarity -- see proportion of 0's and 1's\n",
    "#----------------------------------------------------------------\n",
    "\n",
    "dist_use = as.matrix(vegdist(species_mat,\"bray\"))\n",
    "\n",
    "Z = dist_use[lower.tri(dist_use)]\n",
    "\n",
    "# index for those which are exactly one\n",
    "\n",
    "Z_is_one = which(Z == 1)\n",
    "Z_is_not_one = which(Z != 1)\n",
    "\n",
    "# get counts\n",
    "\n",
    "n1 = length(Z_is_one)\n",
    "N = length(Z)\n",
    "\n",
    "mean(Z == 0)\n",
    "mean(Z == 1)\n",
    "\n",
    "write.csv(Z, \"CSV-comparisons/Z_R.csv\", row.names = FALSE)"
   ]
  },
  {
   "cell_type": "code",
   "execution_count": 53,
   "metadata": {
    "vscode": {
     "languageId": "r"
    }
   },
   "outputs": [],
   "source": [
    "#----------------------------------------------------------------\n",
    "# Define covariates that will be warped\n",
    "#----------------------------------------------------------------\n",
    "\n",
    "# Calculate geographical distance in km\n",
    "\n",
    "dist_mat = distm(cbind(location_mat$longitude,location_mat$latitude))/1e3\n",
    "vec_distance = dist_mat[lower.tri(dist_mat)]\n",
    "\n",
    "write.csv(vec_distance, \"CSV-comparisons/vec_distance_R.csv\", row.names = FALSE)\n",
    "\n",
    "# Define X to be environmental variables or a subset of them.\n",
    "\n",
    "# How many knots do you want? What is the degree of the spline?\n",
    "# Remember that in the specification, of the iSpline that the degree is\n",
    "# one higher that what you say. Integration of m-spline adds one degree.\n",
    "\n",
    "X = envr_use[,c(\"gmap\",\"RFL_CONC\",\"Elevation30m\",\"HeatLoadIndex30m\",\"tmean13c\",\n",
    "                \"SoilConductivitymSm\",\"SoilTotalNPercent\")]\n",
    "deg = 3\n",
    "knots = 2\n",
    "df_use = deg + knots\n",
    "\n",
    "formula_use = as.formula(paste(\"~ 0 +\",paste(\n",
    "  paste(\"iSpline(`\",colnames(X),\"`,degree=\",deg - 1 ,\",df = \",df_use, \n",
    "        \" ,intercept = TRUE)\",sep = \"\"),collapse = \"+\")))\n",
    "\n",
    "# combine distance and environmental I-spline base ranges (X_poly.shape[1]-2)\n",
    "\n",
    "I_spline_bases = model.matrix(formula_use, data = X)\n",
    "\n",
    "dist_splines = iSpline(vec_distance,degree = deg -1, df = df_use,intercept = TRUE)\n",
    "\n",
    "write.csv(dist_splines, \"CSV-comparisons/dist_splines_R.csv\", row.names = FALSE)\n",
    "\n",
    "\n",
    "# Creating a linearly spaced vector of x values to evaluate the shape of the spline\n",
    "x <- seq(0, 1, length.out = 100)\n",
    "df <- data.frame(x = x)\n",
    "I_splines_x = model.matrix(as.formula(paste(\"~ 0 +\", paste(\"iSpline(`\", colnames(df), \"`, degree =\", deg-1, \", df =\", df_use, \", intercept = TRUE)\", sep = \"\"), collapse = \"+\")), data = df)\n",
    "\n",
    "write.csv(df, \"CSV-comparisons/x_R.csv\", row.names = FALSE)\n",
    "write.csv(I_splines_x, \"CSV-comparisons/I_splines_x_R.csv\", row.names = FALSE)\n",
    "write.csv(I_spline_bases, \"CSV-comparisons/I_spline_bases_R.csv\", row.names = FALSE)\n",
    "write.csv(X, \"CSV-comparisons/X_R.csv\", row.names = FALSE)\n",
    "\n",
    "X_GDM = cbind(sapply(1:ncol(I_spline_bases),function(i){\n",
    "  \n",
    "  dist_temp = rdist(I_spline_bases[,i])\n",
    "  vec_dist = dist_temp[lower.tri(dist_temp)]\n",
    "  vec_dist\n",
    "  \n",
    "}),\n",
    "iSpline(vec_distance,degree = deg -1,\n",
    "        df = df_use,intercept = TRUE)\n",
    ")\n",
    "\n",
    "p = ncol(X_GDM)\n",
    "\n",
    "\n",
    "colnames(X_GDM) = c(\n",
    "  paste(rep(colnames(X),each = df_use ),\"I\",rep(1:df_use,times = ncol(X)),sep = \"\"),\n",
    "  paste(\"dist\",\"I\",1:df_use,sep = \"\")\n",
    ")\n",
    "\n",
    "write.csv(X_GDM, \"CSV-comparisons/X_GDM_R.csv\", row.names = FALSE)\n",
    "\n",
    "### Associate each dissimilarity with two sites (row and col index)\n",
    "\n",
    "tmp = matrix(rep(1:nrow(dist_use),each = nrow(dist_use)),nrow = nrow(dist_use))\n",
    "col_ind = tmp[lower.tri(tmp)]\n",
    "tmp = matrix(rep(1:nrow(dist_use),times = nrow(dist_use)),nrow = nrow(dist_use))\n",
    "row_ind = tmp[lower.tri(tmp)]"
   ]
  },
  {
   "cell_type": "code",
   "execution_count": 32,
   "metadata": {
    "vscode": {
     "languageId": "r"
    }
   },
   "outputs": [
    {
     "data": {
      "text/html": [
       "<style>\n",
       ".list-inline {list-style: none; margin:0; padding: 0}\n",
       ".list-inline>li {display: inline-block}\n",
       ".list-inline>li:not(:last-child)::after {content: \"\\00b7\"; padding: 0 .5ex}\n",
       "</style>\n",
       "<ol class=list-inline><li>100</li><li>1</li></ol>\n"
      ],
      "text/latex": [
       "\\begin{enumerate*}\n",
       "\\item 100\n",
       "\\item 1\n",
       "\\end{enumerate*}\n"
      ],
      "text/markdown": [
       "1. 100\n",
       "2. 1\n",
       "\n",
       "\n"
      ],
      "text/plain": [
       "[1] 100   1"
      ]
     },
     "metadata": {},
     "output_type": "display_data"
    }
   ],
   "source": [
    "dim(df)"
   ]
  },
  {
   "cell_type": "code",
   "execution_count": null,
   "metadata": {
    "vscode": {
     "languageId": "r"
    }
   },
   "outputs": [],
   "source": []
  },
  {
   "cell_type": "code",
   "execution_count": null,
   "metadata": {
    "vscode": {
     "languageId": "r"
    }
   },
   "outputs": [],
   "source": [
    "\n",
    "\n",
    "#------------------------------------------------------------------------\n",
    "# Get Initial values for modeling fitting\n",
    "#------------------------------------------------------------------------\n",
    "\n",
    "lm_mod= lm(log(Z) ~ X_GDM)\n",
    "\n",
    "\n",
    "lm_out = optim(c(.3, ifelse(coef(lm_mod)[-1]> 0,log(coef(lm_mod)[-1]), -10),rnorm(ns)) ,function(par){\n",
    "  sum((log(Z) - par[1] - X_GDM %*% exp(par[2:(p + 1)]))^2)\n",
    "},method = \"BFGS\")\n",
    "\n",
    "#------------------------------------------------------------------------\n",
    "# Fix spatial range parameter (rho = 1 / phi)\n",
    "#------------------------------------------------------------------------\n",
    "rho_fix = max(dist_mat)/10\n",
    "R_spat = exp(-dist_mat/rho_fix)\n",
    "chol_R = t(chol(R_spat))\n",
    "R_inv = solve(R_spat)\n",
    "\n",
    "#------------------------------------------------------------------------\n",
    "# Define design matrix for polynomial log-variance\n",
    "#------------------------------------------------------------------------\n",
    "\n",
    "X_sigma = cbind(1,poly(vec_distance,degree = 3))\n",
    "p_sigma = ncol(X_sigma)\n",
    "\n",
    "#------------------------------------------------------------------------\n",
    "# Source nimble models -- Models 1-9 match those in paper\n",
    "#------------------------------------------------------------------------\n",
    "\n",
    "source(\"../nimble_models.R\")\n",
    "\n",
    "# create constants for nimble model\n",
    "\n",
    "constants <- list(n = N, p = p, x = X_GDM,n_loc = ns,\n",
    "                  p_sigma = p_sigma,X_sigma = X_sigma,R_inv = R_inv, \n",
    "                  zeros = rep(0, ns),row_ind = row_ind, col_ind = col_ind)\n",
    "\n",
    "# create data for nimble model\n",
    "\n",
    "data <- list(log_V = ifelse(Z == 1,NA, log(Z)),\n",
    "             censored = 1*(Z == 1),\n",
    "             c = rep(0,constants$n))\n",
    "\n",
    "# create initial values for nimble model -- this will change depending on model\n",
    "\n",
    "inits <- list(beta_0 = lm_out$par[1],\n",
    "              log_beta = lm_out$par[2:(p+1)],\n",
    "              sig2_psi = 1,\n",
    "              beta_sigma = c(-5,-20,12,2),\n",
    "              psi = lm_out$par[-(1:(p+1))])\n",
    "\n",
    "#### \"nimble_code1\" is model 1 in paper. Change to what you want in nimble_models.R.\n",
    "\n",
    "model <- nimbleModel(nimble_code1, constants = constants, data = data, inits = inits)\n",
    "\n",
    "mcmcConf <- configureMCMC(model)\n",
    "\n",
    "# Block sampler for beta_0, log(\\beta_{jk}), and \\beta_{\\sigma}\n",
    "# MCMC may work better including psi in this blocking\n",
    "# Some models (1,4,7) won't have beta_sigma\n",
    "mcmcConf$removeSamplers(c(\"beta_0\",'log_beta','sigma2'))\n",
    "# mcmcConf$addSampler(target = c(\"beta_0\",'log_beta',\"sigma2\"), type = 'RW_block')\n",
    "mcmcConf$addSampler(target = c(\"beta_0\",'log_beta','sigma2'), \n",
    "                    type = 'AF_slice')\n",
    "# \n",
    "# May need to change depending on model\n",
    "# For example, models 1, 4, and 7 will have \"sigma2\" instead of \"beta_sigma\"\n",
    "# For example, models 1, 2, and 3 will not have \"psi\"\n",
    "### Here, beta represents beta* discussed in the supplement, the product of alpha_k and \\beta_{k,j}\n",
    "\n",
    "mcmcConf$addMonitors(c('beta_0','beta','sigma2'))\n",
    "\n",
    "mcmcConf$enableWAIC = TRUE\n",
    "codeMCMC <- buildMCMC(mcmcConf)\n",
    "Cmodel = compileNimble(codeMCMC,model)\n",
    "\n",
    "##### Run a super long MCMC\n",
    "##### thin so that we get 10,000 posterior samples -- saves memory\n",
    "\n",
    "n_tot = 10e3\n",
    "n_burn = 5e3\n",
    "n_post = n_tot - n_burn\n",
    "\n",
    "\n",
    "# You may get some warnings because we didn't initialize log_V where Z = 1.\n",
    "st = proc.time()\n",
    "post_samples <- runMCMC(Cmodel$codeMCMC,niter = n_tot,nburnin = n_burn,\n",
    "                        thin = 1,WAIC = TRUE)\n",
    "elapsed = proc.time() - st\n",
    "\n",
    "saveRDS(data.frame(model = 1,\n",
    "                   time_mins = elapsed[1]/60,\n",
    "                   WAIC = post_samples$WAIC$WAIC,\n",
    "                   p_WAIC =  post_samples$WAIC$pWAIC,\n",
    "                   lppd = post_samples$WAIC$lppd\n",
    "                   ),\"mod1_sa.rds\")\n",
    "\n",
    "rm(list=ls())\n",
    "\n",
    "# ##### A few trace plot\n",
    "# plot(post_samples$samples[,\"beta_0\"],type= \"l\")\n",
    "# plot(post_samples$samples[,\"log_beta[9]\"],type= \"l\")\n",
    "# plot(post_samples$samples[,\"beta[9]\"],type= \"l\")\n",
    "# \n",
    "# plot(post_samples$samples[,\"beta_sigma[2]\"],type= \"l\")\n",
    "# plot(post_samples$samples[,\"psi[2]\"],type= \"l\")\n",
    "# plot(post_samples$samples[,\"sig2_psi\"],type= \"l\")\n"
   ]
  }
 ],
 "metadata": {
  "kernelspec": {
   "display_name": "R",
   "language": "R",
   "name": "ir"
  },
  "language_info": {
   "codemirror_mode": "r",
   "file_extension": ".r",
   "mimetype": "text/x-r-source",
   "name": "R",
   "pygments_lexer": "r",
   "version": "4.3.1"
  }
 },
 "nbformat": 4,
 "nbformat_minor": 2
}
